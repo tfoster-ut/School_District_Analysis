{
 "cells": [
  {
   "cell_type": "code",
   "execution_count": null,
   "metadata": {},
   "outputs": [],
   "source": [
    "import pandas as pd"
   ]
  },
  {
   "cell_type": "code",
   "execution_count": null,
   "metadata": {},
   "outputs": [],
   "source": [
    "school_data_to_load = 'Resources/schools_complete.csv'\n",
    "student_data_to_load = 'Resources/students_complete.csv'"
   ]
  },
  {
   "cell_type": "code",
   "execution_count": null,
   "metadata": {},
   "outputs": [],
   "source": [
    "schools_data_df = pd.read_csv(school_data_to_load)"
   ]
  },
  {
   "cell_type": "code",
   "execution_count": null,
   "metadata": {},
   "outputs": [],
   "source": [
    "students_data_df = pd.read_csv(student_data_to_load)"
   ]
  },
  {
   "cell_type": "code",
   "execution_count": null,
   "metadata": {},
   "outputs": [],
   "source": [
    "#Determine if there are any missing values in the data\n",
    "schools_data_df.count()"
   ]
  },
  {
   "cell_type": "code",
   "execution_count": null,
   "metadata": {},
   "outputs": [],
   "source": [
    "#Determine if there are any missing values in students\n",
    "students_data_df.count()"
   ]
  },
  {
   "cell_type": "code",
   "execution_count": null,
   "metadata": {},
   "outputs": [],
   "source": [
    "# Add each prefix and suffix to remove to a list.\n",
    "prefixes_suffixes = [\"Dr. \", \"Mr. \",\"Ms. \", \"Mrs. \", \"Miss \", \" MD\", \" DDS\", \" DVM\", \" PhD\"]\n",
    "\n",
    "# Iterate through the words in the \"prefixes_suffixes\" list and replace them with an empty space, \"\".\n",
    "for word in prefixes_suffixes:\n",
    "    students_data_df['student_name'] = students_data_df['student_name'].str.replace(word,\"\")\n",
    "\n"
   ]
  },
  {
   "cell_type": "code",
   "execution_count": null,
   "metadata": {},
   "outputs": [],
   "source": [
    "#Combine the data into a single spreadsheet\n",
    "school_data_complete_df = pd.merge(students_data_df, schools_data_df, on=['school_name', 'school_name'])\n"
   ]
  },
  {
   "cell_type": "code",
   "execution_count": null,
   "metadata": {},
   "outputs": [],
   "source": [
    "#get count of students\n",
    "student_count = school_data_complete_df['student_name'].count()\n"
   ]
  },
  {
   "cell_type": "code",
   "execution_count": null,
   "metadata": {},
   "outputs": [],
   "source": [
    "school_data_complete_df['Student ID'].count()"
   ]
  },
  {
   "cell_type": "code",
   "execution_count": null,
   "metadata": {},
   "outputs": [],
   "source": [
    "#get count of unique schools\n",
    "school_count = schools_data_df['school_name'].count()\n",
    "len(school_data_complete_df['school_name'].unique())"
   ]
  },
  {
   "cell_type": "code",
   "execution_count": null,
   "metadata": {},
   "outputs": [],
   "source": [
    "school_budget = schools_data_df['budget'].sum()\n"
   ]
  },
  {
   "cell_type": "code",
   "execution_count": null,
   "metadata": {},
   "outputs": [],
   "source": [
    "mean_reading_score = school_data_complete_df['reading_score'].mean()\n"
   ]
  },
  {
   "cell_type": "code",
   "execution_count": null,
   "metadata": {},
   "outputs": [],
   "source": [
    "mean_math_score = school_data_complete_df['math_score'].mean()\n"
   ]
  },
  {
   "cell_type": "code",
   "execution_count": null,
   "metadata": {},
   "outputs": [],
   "source": [
    "passing_math = school_data_complete_df['math_score'] >= 70\n",
    "passing_reading = school_data_complete_df['reading_score'] >= 70\n"
   ]
  },
  {
   "cell_type": "code",
   "execution_count": null,
   "metadata": {},
   "outputs": [],
   "source": [
    "passing_math = school_data_complete_df[school_data_complete_df['math_score'] >= 70]\n"
   ]
  },
  {
   "cell_type": "code",
   "execution_count": null,
   "metadata": {},
   "outputs": [],
   "source": [
    "passing_reading = school_data_complete_df[school_data_complete_df['reading_score'] >= 70]"
   ]
  },
  {
   "cell_type": "code",
   "execution_count": null,
   "metadata": {},
   "outputs": [],
   "source": [
    "#Count the number of students that passed math\n",
    "passing_math_count = passing_math['student_name'].count()\n",
    "\n",
    "#Count the number of students that passed reading\n",
    "passing_reading_count = passing_reading['student_name'].count()\n",
    "\n",
    "type(passing_math_count)"
   ]
  },
  {
   "cell_type": "code",
   "execution_count": null,
   "metadata": {},
   "outputs": [],
   "source": [
    "#Calculate the percentage of students that passed math\n",
    "passing_math_percentage = passing_math_count / student_count.astype(float) * 100\n",
    "\n",
    "#Calculate the percentage of students that passed reading\n",
    "passing_reading_percentage = passing_reading_count / student_count.astype(float) * 100\n"
   ]
  },
  {
   "cell_type": "code",
   "execution_count": null,
   "metadata": {},
   "outputs": [],
   "source": [
    "\n",
    "passing_math_reading = school_data_complete_df[(school_data_complete_df['math_score'] >= 70) & (school_data_complete_df['reading_score'] >= 70)]\n",
    "\n",
    "passing_math_reading.head(10)\n",
    "                                                                                                                      "
   ]
  },
  {
   "cell_type": "code",
   "execution_count": null,
   "metadata": {},
   "outputs": [],
   "source": [
    "overall_passing_math_reading_count = passing_math_reading['student_name'].count()\n",
    "\n",
    "overall_passing_math_reading_count"
   ]
  },
  {
   "cell_type": "code",
   "execution_count": null,
   "metadata": {},
   "outputs": [],
   "source": [
    "overall_passing_percentage = overall_passing_math_reading_count / student_count.astype(float) * 100\n"
   ]
  },
  {
   "cell_type": "code",
   "execution_count": null,
   "metadata": {},
   "outputs": [],
   "source": [
    "district_summary_df = pd.DataFrame(\n",
    "    [{'Total Schools': school_count,\n",
    "    'Total Students': student_count,\n",
    "    'Total Budget': school_budget,\n",
    "    'Average Reading Score': mean_reading_score,\n",
    "    'Average Math Score': mean_math_score,\n",
    "    '% Passing Reading': passing_reading_percentage,\n",
    "    '% Passing Math': passing_math_percentage,\n",
    "    '% Overall Passing': overall_passing_percentage\n",
    "}])\n",
    "\n",
    "# Format the \"Total Students\" to have the comma for a thousands separator.\n",
    "district_summary_df['Total Students'] = district_summary_df['Total Students'].map('{:,}'.format)\n",
    "district_summary_df['Total Budget'] = district_summary_df['Total Budget'].map('${:,.2f}'.format)\n",
    "district_summary_df['Average Reading Score'] = district_summary_df['Average Reading Score'].map('{:.1f}'.format)\n",
    "district_summary_df['Average Math Score'] = district_summary_df['Average Math Score'].map('{:.1f}'.format)\n",
    "district_summary_df['% Passing Reading'] = district_summary_df['% Passing Reading'].map('{:.0f}%'.format)\n",
    "district_summary_df['% Passing Math'] = district_summary_df['% Passing Math'].map('{:.0f}%'.format)\n",
    "district_summary_df['% Overall Passing'] = district_summary_df['% Overall Passing'].map('{:.0f}%'.format)\n",
    "\n",
    "district_summary_df\n",
    "\n"
   ]
  },
  {
   "cell_type": "code",
   "execution_count": null,
   "metadata": {},
   "outputs": [],
   "source": [
    "#Reorder the columns\n",
    "new_column_order = [\"Total Schools\", \"Total Students\", \"Total Budget\",\"Average Math Score\", \"Average Reading Score\", \"% Passing Math\", \"% Passing Reading\", \"% Overall Passing\"]\n",
    "\n",
    "# Assing district_summary_df to the new column order\n",
    "district_summary_df = district_summary_df[new_column_order]\n",
    "district_summary_df"
   ]
  },
  {
   "cell_type": "code",
   "execution_count": null,
   "metadata": {},
   "outputs": [],
   "source": [
    "# Determine the school type.\n",
    "per_school_types = schools_data_df.set_index(['school_name'])['type']\n",
    "per_school_types"
   ]
  },
  {
   "cell_type": "code",
   "execution_count": null,
   "metadata": {},
   "outputs": [],
   "source": [
    "per_school_df = pd.DataFrame(per_school_types)\n",
    "per_school_df"
   ]
  },
  {
   "cell_type": "code",
   "execution_count": null,
   "metadata": {},
   "outputs": [],
   "source": [
    "# Calculate the total student count.\n",
    "per_school_counts = schools_data_df['size']\n",
    "per_school_counts"
   ]
  },
  {
   "cell_type": "code",
   "execution_count": null,
   "metadata": {},
   "outputs": [],
   "source": [
    "# Calculate the total student count.\n",
    "per_school_counts = schools_data_df.set_index(['school_name'])['size']\n",
    "per_school_counts"
   ]
  },
  {
   "cell_type": "code",
   "execution_count": null,
   "metadata": {},
   "outputs": [],
   "source": [
    "# Calculate the total student count.\n",
    "per_school_counts = school_data_complete_df['school_name'].value_counts()\n",
    "per_school_counts"
   ]
  },
  {
   "cell_type": "code",
   "execution_count": null,
   "metadata": {},
   "outputs": [],
   "source": [
    "per_school_budget = schools_data_df.set_index(['school_name'])['budget']\n",
    "per_school_budget"
   ]
  },
  {
   "cell_type": "code",
   "execution_count": null,
   "metadata": {},
   "outputs": [],
   "source": [
    "per_school_capita = per_school_budget / per_school_counts\n",
    "per_school_capita"
   ]
  },
  {
   "cell_type": "code",
   "execution_count": null,
   "metadata": {},
   "outputs": [],
   "source": [
    "# Calculate the math scores.\n",
    "student_school_math = students_data_df.set_index([\"school_name\"])[\"math_score\"]\n"
   ]
  },
  {
   "cell_type": "code",
   "execution_count": null,
   "metadata": {},
   "outputs": [],
   "source": [
    "# Calculate the average math scores.\n",
    "per_school_averages = school_data_complete_df.groupby([\"school_name\"]).mean()\n",
    "per_school_averages"
   ]
  },
  {
   "cell_type": "code",
   "execution_count": null,
   "metadata": {},
   "outputs": [],
   "source": [
    "# Calculate the average test scores.\n",
    "per_school_math = school_data_complete_df.groupby(['school_name']).mean()['math_score']\n",
    "per_school_reading = school_data_complete_df.groupby(['school_name']).mean()['reading_score']"
   ]
  },
  {
   "cell_type": "code",
   "execution_count": null,
   "metadata": {},
   "outputs": [],
   "source": [
    "# Calculate the passing scores by creating a filtered DataFrame.\n",
    "per_school_passing_math = school_data_complete_df[(school_data_complete_df['math_score'] >= 70)]\n",
    "per_school_passing_reading = school_data_complete_df[(school_data_complete_df['reading_score'] >= 70)]\n",
    "per_school_passing_math"
   ]
  },
  {
   "cell_type": "code",
   "execution_count": null,
   "metadata": {},
   "outputs": [],
   "source": [
    "# Calculate the number of students passing math and passing reading by school.\n",
    "per_school_passing_math = per_school_passing_math.groupby([\"school_name\"]).count()[\"student_name\"]\n",
    "\n",
    "per_school_passing_reading = per_school_passing_reading.groupby(['school_name']).count()['student_name']\n",
    "\n",
    "per_school_passing_reading"
   ]
  },
  {
   "cell_type": "code",
   "execution_count": null,
   "metadata": {},
   "outputs": [],
   "source": [
    "# Calculate the percentage of passing math and reading scores per school.\n",
    "per_school_passing_math = per_school_passing_math / per_school_counts * 100\n",
    "per_school_passing_reading = per_school_passing_reading / per_school_counts * 100\n",
    "\n",
    "per_school_passing_math"
   ]
  },
  {
   "cell_type": "code",
   "execution_count": null,
   "metadata": {},
   "outputs": [],
   "source": [
    "per_passing_math_reading = school_data_complete_df[(school_data_complete_df['math_score'] >= 70) & (school_data_complete_df['reading_score'] >= 70)]\n",
    "per_passing_math_reading.head(10)"
   ]
  },
  {
   "cell_type": "code",
   "execution_count": null,
   "metadata": {},
   "outputs": [],
   "source": [
    "# Calculate the number of students who passed both math and reading.\n",
    "per_passing_math_reading = per_passing_math_reading.groupby(['school_name']).count()['student_name']"
   ]
  },
  {
   "cell_type": "code",
   "execution_count": null,
   "metadata": {},
   "outputs": [],
   "source": [
    "# Calculate the overall passing percentage.\n",
    "per_overall_passing_percentage = per_passing_math_reading / per_school_counts * 100"
   ]
  },
  {
   "cell_type": "code",
   "execution_count": null,
   "metadata": {},
   "outputs": [],
   "source": [
    "per_overall_passing_percentage"
   ]
  },
  {
   "cell_type": "code",
   "execution_count": null,
   "metadata": {},
   "outputs": [],
   "source": [
    "per_school_summary_df = pd.DataFrame(\n",
    "    {'School Type': per_school_types,\n",
    "      'Total Students': per_school_counts,\n",
    "      'Total School Budget': per_school_budget,\n",
    "      'Per Student Budget': per_school_capita,\n",
    "      'Average Math Score': per_school_math,\n",
    "      'Average Reading Score': per_school_reading,\n",
    "      '% Passing Math': per_school_passing_math,\n",
    "      '% Passing Reading': per_school_passing_reading,\n",
    "      '% Overall Passing': per_overall_passing_percentage\n",
    "    })\n",
    "\n",
    "per_school_summary_df.head(10)"
   ]
  },
  {
   "cell_type": "code",
   "execution_count": null,
   "metadata": {},
   "outputs": [],
   "source": [
    "# Format DataFrame \n",
    "per_school_summary_df['Total School Budget'] = per_school_summary_df['Total School Budget'].map('${:,.2f}'.format)\n",
    "per_school_summary_df['Per Student Budget'] = per_school_summary_df['Per Student Budget'].map('${:,.2f}'.format)\n",
    "per_school_summary_df['Average Math Score'] = per_school_summary_df['Average Math Score'].map('{:.1f}'.format)\n",
    "per_school_summary_df['Average Reading Score'] = per_school_summary_df['Average Reading Score'].map('{:.1f}'.format)\n",
    "per_school_summary_df['% Passing Math'] = per_school_summary_df['% Passing Math'].map('{:.0f}'.format)\n",
    "per_school_summary_df['% Passing Reading'] = per_school_summary_df['% Passing Reading'].map('{:.0f}'.format)\n",
    "per_school_summary_df['% Overall Passing'] = per_school_summary_df['% Overall Passing'].map('{:.0f}'.format)\n",
    "\n",
    "per_school_summary_df.head()"
   ]
  },
  {
   "cell_type": "code",
   "execution_count": null,
   "metadata": {},
   "outputs": [],
   "source": [
    "# Top Schools\n",
    "top_schools = per_school_summary_df.sort_values(['% Overall Passing'], ascending=False)\n"
   ]
  },
  {
   "cell_type": "code",
   "execution_count": null,
   "metadata": {},
   "outputs": [],
   "source": [
    "# Bottom Schools\n",
    "bottom_schools = per_school_summary_df.sort_values(['% Overall Passing'], ascending=True)\n"
   ]
  },
  {
   "cell_type": "code",
   "execution_count": null,
   "metadata": {},
   "outputs": [],
   "source": [
    "# Create grade level DataFrames\n",
    "ninth_graders = school_data_complete_df[(school_data_complete_df['grade'] == '9th')]\n",
    "tenth_graders = school_data_complete_df[(school_data_complete_df['grade'] == '10th')]\n",
    "eleventh_graders = school_data_complete_df[(school_data_complete_df['grade'] == '11th')]\n",
    "twelfth_graders = school_data_complete_df[(school_data_complete_df['grade'] == '12th')]\n"
   ]
  },
  {
   "cell_type": "code",
   "execution_count": null,
   "metadata": {},
   "outputs": [],
   "source": [
    "# Get the mean score in math for all grades\n",
    "ninth_grade_math_score = ninth_graders.groupby(['school_name']).mean()['math_score']\n",
    "tenth_grade_math_score = tenth_graders.groupby(['school_name']).mean()['math_score']\n",
    "eleventh_grade_math_score = eleventh_graders.groupby(['school_name']).mean()['math_score']\n",
    "twelfth_grade_math_score = twelfth_graders.groupby(['school_name']).mean()['math_score']\n",
    "\n",
    "eleventh_grade_math_score"
   ]
  },
  {
   "cell_type": "code",
   "execution_count": null,
   "metadata": {},
   "outputs": [],
   "source": [
    "# Get the mean score in reading for all grades\n",
    "ninth_grade_reading_score = ninth_graders.groupby(['school_name']).mean()['reading_score']\n",
    "tenth_grade_reading_score = tenth_graders.groupby(['school_name']).mean()['reading_score']\n",
    "eleventh_grade_reading_score = eleventh_graders.groupby(['school_name']).mean()['reading_score']\n",
    "twelfth_grade_reading_score = twelfth_graders.groupby(['school_name']).mean()['reading_score']\n",
    "\n",
    "eleventh_grade_reading_score"
   ]
  },
  {
   "cell_type": "code",
   "execution_count": null,
   "metadata": {},
   "outputs": [],
   "source": [
    "math_score_by_grade = pd.DataFrame({\n",
    "    '9th': ninth_grade_math_score,\n",
    "    '10th': tenth_grade_math_score,\n",
    "    '11th': eleventh_grade_math_score,\n",
    "    '12th': twelfth_grade_math_score\n",
    "})\n",
    "\n",
    "math_score_by_grade.head()"
   ]
  },
  {
   "cell_type": "code",
   "execution_count": null,
   "metadata": {},
   "outputs": [],
   "source": [
    "# Add DataFrame for reading by grade\n",
    "reading_score_by_grade = pd.DataFrame({\n",
    "    '9th': ninth_grade_reading_score,\n",
    "    '10th': tenth_grade_reading_score,\n",
    "    '11th': eleventh_grade_reading_score,\n",
    "    '12th': twelfth_grade_reading_score\n",
    "})\n",
    "\n",
    "reading_score_by_grade.head()\n"
   ]
  },
  {
   "cell_type": "code",
   "execution_count": null,
   "metadata": {},
   "outputs": [],
   "source": [
    "# Format math by grade DataFrame\n",
    "math_score_by_grade['9th'] = math_score_by_grade['9th'].map('{:.1f}'.format)\n",
    "math_score_by_grade['10th'] = math_score_by_grade['10th'].map('{:.1f}'.format)\n",
    "math_score_by_grade['11th'] = math_score_by_grade['11th'].map('{:.1f}'.format)\n",
    "math_score_by_grade['12th'] = math_score_by_grade['12th'].map('{:.1f}'.format)\n",
    "\n",
    "math_score_by_grade.index.name = None"
   ]
  },
  {
   "cell_type": "code",
   "execution_count": null,
   "metadata": {},
   "outputs": [],
   "source": [
    "# Format reading by grade DataFrame\n",
    "reading_score_by_grade['9th'] = reading_score_by_grade['9th'].map('{:.1f}'.format)\n",
    "reading_score_by_grade['10th'] = reading_score_by_grade['10th'].map('{:.1f}'.format)\n",
    "reading_score_by_grade['11th'] = reading_score_by_grade['11th'].map('{:.1f}'.format)\n",
    "reading_score_by_grade['12th'] = reading_score_by_grade['12th'].map('{:.1f}'.format)\n",
    "\n",
    "reading_score_by_grade.index.name = None"
   ]
  },
  {
   "cell_type": "code",
   "execution_count": null,
   "metadata": {},
   "outputs": [],
   "source": []
  }
 ],
 "metadata": {
  "kernelspec": {
   "display_name": "PythonData",
   "language": "python",
   "name": "pythondata"
  },
  "language_info": {
   "codemirror_mode": {
    "name": "ipython",
    "version": 3
   },
   "file_extension": ".py",
   "mimetype": "text/x-python",
   "name": "python",
   "nbconvert_exporter": "python",
   "pygments_lexer": "ipython3",
   "version": "3.8.3"
  }
 },
 "nbformat": 4,
 "nbformat_minor": 4
}
